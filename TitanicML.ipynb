{
  "nbformat": 4,
  "nbformat_minor": 0,
  "metadata": {
    "colab": {
      "provenance": []
    },
    "kernelspec": {
      "name": "python3",
      "display_name": "Python 3"
    },
    "language_info": {
      "name": "python"
    }
  },
  "cells": [
    {
      "cell_type": "markdown",
      "source": [
        "# **Titanic ML Project**\n",
        "\n",
        "\n"
      ],
      "metadata": {
        "id": "ekA5UgHvOSSY"
      }
    },
    {
      "cell_type": "markdown",
      "source": [
        "## Import Libraries and Dataset\n",
        "\n",
        "\n",
        "\n"
      ],
      "metadata": {
        "id": "Azrcv2T9Oj-e"
      }
    },
    {
      "cell_type": "markdown",
      "source": [
        "iuhpuWBEKGJBN;skjdv\n"
      ],
      "metadata": {
        "id": "76GWW-DTSnk9"
      }
    },
    {
      "cell_type": "code",
      "source": [],
      "metadata": {
        "id": "vws5mtYoSmoi"
      },
      "execution_count": null,
      "outputs": []
    }
  ]
}