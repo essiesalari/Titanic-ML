{
  "nbformat": 4,
  "nbformat_minor": 0,
  "metadata": {
    "colab": {
      "provenance": [],
      "authorship_tag": "ABX9TyPjnUhIFdcRlRZuOFXnGONd",
      "include_colab_link": true
    },
    "kernelspec": {
      "name": "python3",
      "display_name": "Python 3"
    },
    "language_info": {
      "name": "python"
    }
  },
  "cells": [
    {
      "cell_type": "markdown",
      "metadata": {
        "id": "view-in-github",
        "colab_type": "text"
      },
      "source": [
        "<a href=\"https://colab.research.google.com/github/essiesalari/Titanic-ML/blob/main/TitanicML.ipynb\" target=\"_parent\"><img src=\"https://colab.research.google.com/assets/colab-badge.svg\" alt=\"Open In Colab\"/></a>"
      ]
    },
    {
      "cell_type": "markdown",
      "source": [
        "# **Titanic ML Project**\n",
        "\n",
        "\n"
      ],
      "metadata": {
        "id": "ekA5UgHvOSSY"
      }
    },
    {
      "cell_type": "markdown",
      "source": [
        "## Import Libraries and Dataset\n",
        "\n",
        "\n",
        "\n"
      ],
      "metadata": {
        "id": "Azrcv2T9Oj-e"
      }
    },
    {
      "cell_type": "code",
      "source": [
        "import numpy as np\n",
        "import pandas as pd\n",
        "import matplotlib.pyplot as plt"
      ],
      "metadata": {
        "id": "Yp-sLXpr1u6c"
      },
      "execution_count": 4,
      "outputs": []
    }
  ]
}