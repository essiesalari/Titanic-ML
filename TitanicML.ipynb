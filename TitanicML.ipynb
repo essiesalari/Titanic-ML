{
  "nbformat": 4,
  "nbformat_minor": 0,
  "metadata": {
    "colab": {
      "provenance": [],
      "authorship_tag": "ABX9TyPgpEBdy2XqFdDTIlOjslPb",
      "include_colab_link": true
    },
    "kernelspec": {
      "name": "python3",
      "display_name": "Python 3"
    },
    "language_info": {
      "name": "python"
    }
  },
  "cells": [
    {
      "cell_type": "markdown",
      "metadata": {
        "id": "view-in-github",
        "colab_type": "text"
      },
      "source": [
        "<a href=\"https://colab.research.google.com/github/essiesalari/Titanic-ML/blob/main/TitanicML.ipynb\" target=\"_parent\"><img src=\"https://colab.research.google.com/assets/colab-badge.svg\" alt=\"Open In Colab\"/></a>"
      ]
    },
    {
      "cell_type": "markdown",
      "source": [
        "# **Titanic ML Project**\n",
        "\n",
        "\n"
      ],
      "metadata": {
        "id": "ekA5UgHvOSSY"
      }
    },
    {
      "cell_type": "markdown",
      "source": [
        "## Import Libraries and Dataset\n",
        "\n",
        "\n",
        "\n"
      ],
      "metadata": {
        "id": "Azrcv2T9Oj-e"
      }
    },
    {
      "cell_type": "code",
      "source": [
        "import numpy as np\n",
        "import pandas as pd\n",
        "import matplotlib.pyplot as plt"
      ],
      "metadata": {
        "id": "Yp-sLXpr1u6c"
      },
      "execution_count": null,
      "outputs": []
    },
    {
      "cell_type": "code",
      "source": [
        "# Clone the GitHub repository\n",
        "!git clone https://github.com/essiesalari/Titanic-ML.git\n",
        "\n",
        "%cd Titanic-ML\n",
        "%cd dataset\n",
        "!unzip titanic.zip"
      ],
      "metadata": {
        "id": "M7k5Xtm95Bss"
      },
      "execution_count": null,
      "outputs": []
    },
    {
      "cell_type": "code",
      "source": [
        "# Read data into Pandas DataFrame\n",
        "df_gen_sub = pd.read_csv('gender_submission.csv')\n",
        "df_test = pd.read_csv('test.csv')\n",
        "df_train = pd.read_csv('train.csv')"
      ],
      "metadata": {
        "id": "5_9QWxae5bL1"
      },
      "execution_count": null,
      "outputs": []
    },
    {
      "cell_type": "markdown",
      "source": [
        "## EDA"
      ],
      "metadata": {
        "id": "URKQ5pYIwzDX"
      }
    },
    {
      "cell_type": "code",
      "source": [],
      "metadata": {
        "id": "cAGabBm9wywo"
      },
      "execution_count": null,
      "outputs": []
    }
  ]
}