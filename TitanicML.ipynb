{
  "nbformat": 4,
  "nbformat_minor": 0,
  "metadata": {
    "colab": {
      "provenance": [],
      "authorship_tag": "ABX9TyNzKn7U39qRwmOZKozPkY7E",
      "include_colab_link": true
    },
    "kernelspec": {
      "name": "python3",
      "display_name": "Python 3"
    },
    "language_info": {
      "name": "python"
    }
  },
  "cells": [
    {
      "cell_type": "markdown",
      "metadata": {
        "id": "view-in-github",
        "colab_type": "text"
      },
      "source": [
        "<a href=\"https://colab.research.google.com/github/essiesalari/Titanic-ML/blob/main/TitanicML.ipynb\" target=\"_parent\"><img src=\"https://colab.research.google.com/assets/colab-badge.svg\" alt=\"Open In Colab\"/></a>"
      ]
    },
    {
      "cell_type": "markdown",
      "source": [
        "# **Titanic ML Project**\n",
        "\n",
        "\n"
      ],
      "metadata": {
        "id": "ekA5UgHvOSSY"
      }
    },
    {
      "cell_type": "markdown",
      "source": [
        "## Import Libraries and Dataset\n",
        "\n",
        "\n",
        "\n"
      ],
      "metadata": {
        "id": "Azrcv2T9Oj-e"
      }
    },
    {
      "cell_type": "markdown",
      "source": [
        "iuhpuWBEKGJBN;skjdv\n"
      ],
      "metadata": {
        "id": "76GWW-DTSnk9"
      }
    },
    {
      "cell_type": "code",
      "source": [
        "print(\"essie\")"
      ],
      "metadata": {
        "id": "vws5mtYoSmoi",
        "colab": {
          "base_uri": "https://localhost:8080/"
        },
        "outputId": "92307381-4b77-47ab-effa-fd0f07569efc"
      },
      "execution_count": null,
      "outputs": [
        {
          "output_type": "stream",
          "name": "stdout",
          "text": [
            "essie\n"
          ]
        }
      ]
    },
    {
      "cell_type": "code",
      "source": [
        "print(\"thank you mu dud!\")"
      ],
      "metadata": {
        "id": "XHtDylpAy0Yg",
        "outputId": "c915fcd1-e6b2-462a-950a-7b89acdf45c2",
        "colab": {
          "base_uri": "https://localhost:8080/"
        }
      },
      "execution_count": 1,
      "outputs": [
        {
          "output_type": "stream",
          "name": "stdout",
          "text": [
            "thank you mu dud!\n"
          ]
        }
      ]
    }
  ]
}